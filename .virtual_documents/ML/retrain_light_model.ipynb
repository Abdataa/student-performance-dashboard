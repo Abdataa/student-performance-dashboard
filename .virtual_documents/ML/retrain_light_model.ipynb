import pandas as pd
import numpy as np
from sklearn.ensemble import RandomForestRegressor
from sklearn.model_selection import train_test_split
from sklearn.metrics import mean_squared_error,root_mean_squared_error
from joblib import dump

# Load your dataset
df = pd.read_csv("data/student_por (1).csv") # fle path 

# Select important features
important_features = ['G1', 'G2', 'failures', 'absences', 'higher', 'studytime', 'age', 'Dalc', 'goout']
target = 'G3'

# Convert 'higher' to binary  (yes/no → 1/0)
df['higher'] = df['higher'].map({'yes': 1, 'no': 0})

# Drop rows with missing values (if any)
df = df.dropna(subset=important_features + [target])

# Split data
X = df[important_features]
y = df[target]
X_train, X_test, y_train, y_test = train_test_split(X, y, test_size=0.2, random_state=42)

# Train model
model = RandomForestRegressor(n_estimators=100, random_state=42)
model.fit(X_train, y_train)





#checking once again model on the old data  
y_train_pred=model.predict(X_train)
#performance measure
rmse =root_mean_squared_error(y_train, y_train_pred)
print(f" RMSE on test set: {rmse:.2f}")


# Evaluate
y_pred = model.predict(X_test)
rmse = root_mean_squared_error(y_test, y_pred)
print(f"RMSE on test set: {rmse:.2f}")

# Save the new lightweight model
dump(model, "light_student_performance_predictor_model.joblib")
print(" Model saved as light_student_performance_predictor_model.joblib")


from sklearn.ensemble import RandomForestClassifier
from sklearn.metrics import classification_report
from sklearn .linear_model import LogisticRegression


# Create at_risk target 
df["at_risk"] = df["G3"].apply(lambda x: 1 if x < 7.5 else 0)

# Features 
features = ['G1', 'G2', 'failures', 'absences', 'higher', 'studytime', 'age', 'Dalc', 'goout']
X = df[features]
y = df["at_risk"]

# Train/test split
X_train, X_test, y_train, y_test = train_test_split(X, y, test_size=0.2, random_state=42)





# Train model
clf = RandomForestClassifier(random_state=42)
clf.fit(X_train, y_train)
y_train_pred=clf.predict(X_train)
# Evaluate on familiar data

print(classification_report(y_train, y_train_pred))



from sklearn.metrics import  confusion_matrix
confusion_mrx=confusion_matrix(y_train,y_train_pred)

print(confusion_mrx)


# logistic regression for classification
logicr_reg=LogisticRegression()
logicr_reg.fit(X_train, y_train)
#evaluate  on familiar data
y_train_pred=logicr_reg.predict(X_train)
print("the confusion matrix report of the logistic reg:")
print(classification_report(y_train, y_train_pred))



confusion_mrx=confusion_matrix(y_train,y_train_pred)
print("the confusion matrix of the logistic reg:")
print(confusion_mrx)





# Evaluate
y_pred = clf.predict(X_test)
print(classification_report(y_test, y_pred))

# Save our best classifcation model
import  joblib
joblib.dump(clf, "light_at_risk_classifier_model.joblib")


confusion_mrx=confusion_matrix(y_test,y_pred)

print(confusion_mrx)


#let's see logistic on test data
y_pred=logicr_reg.predict(X_test)
print("the confusion matrix report of the logistic reg:")
print(classification_report(y_test, y_pred))
#confusion matrix
print('confusion matrix of the logistic on test set')
confusion_matrix(y_test,y_pred)




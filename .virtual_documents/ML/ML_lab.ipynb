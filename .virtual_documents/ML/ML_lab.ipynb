import pandas as pd
import numpy as np
import matplotlib.pyplot as plt
import seaborn as sns


from sklearn.linear_model import LinearRegression


speed = [99,86,87,88,111,86,103,87,94,78,77,85,86]
np.mean(speed)


np.median(speed)


from scipy import stats


stats.mode(speed)


np.std(speed)


speed2 = [86,87,88,86,87,85,86]


np.std(speed2)


speed3 = [32,111,138,28,59,77,97]


np.std(speed3)


speed4 = [32,111,138,28,59,77,97]


np.var(speed4)


x = np.random.uniform(0.0, 5.0, 250)
x


plt.hist(x,5)


x = np.random.uniform(0.0, 5.0, 100000)
x


plt.hist(x,100)
plt.show()


x = np.random.normal(5.0, 1.0, 100000)


plt.hist(x,100)
plt.show()


x = [5,7,8,7,2,17,2,9,4,11,12,9,6]
y = [99,86,87,88,111,86,103,87,94,78,77,85,86]


plt.scatter(x,y)
plt.xlabel("x-axis")
plt.ylabel("y-axis")
plt.title("X-axis vs y-axis ")
plt.show()


x = np.random.normal(5.0, 1.0, 1000)
y = np.random.normal(10.0, 2.0, 1000)


plt.scatter(x,y)
plt.show()


x = [5,7,8,7,2,17,2,9,4,11,12,9,6]
y = [99,86,87,88,111,86,103,87,94,78,77,85,86]
plt.scatter(x,y)
plt.show()


x = [5,7,8,7,2,17,2,9,4,11,12,9,6]
y = [99,86,87,88,111,86,103,87,94,78,77,85,86]
slope, intercept, r, p, std_err = stats.linregress(x, y)
def myfunc(x):
 return slope * x + intercept
mymodel = list(map(myfunc, x))
plt.scatter(x, y)
plt.plot(x,mymodel)
plt.show()


x = [5,7,8,7,2,17,2,9,4,11,12,9,6]
y = [99,86,87,88,111,86,103,87,94,78,77,85,86]
slope, intercept, r, p, std_err = stats.linregress(x, y)
print(r)


x = [5,7,8,7,2,17,2,9,4,11,12,9,6]
y = [99,86,87,88,111,86,103,87,94,78,77,85,86]
slope, intercept, r, p, std_err = stats.linregress(x, y)
def myfunc(x):
 return slope * x + intercept
speed = myfunc(10)
print(speed)


x = [89,43,36,36,95,10,66,34,38,20,26,29,48,64,6,5,36,66,72,40]
y = [21,46,3,35,67,95,53,72,58,10,26,34,90,33,38,20,56,2,47,15]


def myfunc(x):
 return slope * x + intercept
mymodel = list(map(myfunc, x))
plt.scatter(x, y)
plt.plot(x,mymodel)


x = [1,2,3,5,6,7,8,9,10,12,13,14,15,16,18,19,21,22]
y = [100,90,80,60,60,55,60,65,70,70,75,76,78,79,90,99,99,100]
plt.scatter(x, y)
plt.title("Polynomial regression")
plt.show()


x = [1,2,3,5,6,7,8,9,10,12,13,14,15,16,18,19,21,22]
y = [100,90,80,60,60,55,60,65,70,70,75,76,78,79,90,99,99,100]
mymodel = np.poly1d(np.polyfit(x, y, 3))
myline = np.linspace(1, 22, 100)
plt.scatter(x, y)
plt.plot(myline, mymodel(myline))
plt.title("Polynomial regression")
plt.show()


from sklearn.metrics import r2_score
x = [1,2,3,5,6,7,8,9,10,12,13,14,15,16,18,19,21,22]
y = [100,90,80,60,60,55,60,65,70,70,75,76,78,79,90,99,99,100]
mymodel = np.poly1d(np.polyfit(x, y, 3))
print(r2_score(y, mymodel(x)))


x = [1,2,3,5,6,7,8,9,10,12,13,14,15,16,18,19,21,22]
y = [100,90,80,60,60,55,60,65,70,70,75,76,78,79,90,99,99,100]
mymodel = np.poly1d(np.polyfit(x, y, 3))
speed = mymodel(17)
print(speed)


x = [89,43,36,36,95,10,66,34,38,20,26,29,48,64,6,5,36,66,72,40]
y = [21,46,3,35,67,95,53,72,58,10,26,34,90,33,38,20,56,2,47,15]


mymodel = np.poly1d(np.polyfit(x, y, 3))
myline = np.linspace(2, 95, 100)
plt.scatter(x, y)
plt.plot(myline, mymodel(myline))
plt.show()


x = [89,43,36,36,95,10,66,34,38,20,26,29,48,64,6,5,36,66,72,40]
y = [21,46,3,35,67,95,53,72,58,10,26,34,90,33,38,20,56,2,47,15]
mymodel = np.poly1d(np.polyfit(x, y, 3))
print(r2_score(y, mymodel(x)))


import numpy as np
from sklearn.linear_model import LinearRegression
import matplotlib.pyplot as plt
# Training data
sizes = np.array([50, 60, 70, 80, 100]) # House sizes in square meters
prices = np.array([150000, 180000, 210000, 240000, 300000]) # Corresponding prices
# Reshape data for sklearn
sizes = sizes.reshape(-1, 1)
# Create and train the model
model = LinearRegression()
model.fit(sizes, prices)
# Predict the price of a new house
new_size = np.array([[85]]) # New house size
predicted_price = model.predict(new_size)
print(f"Predicted price for a house of {new_size[0][0]} sqm is ${predicted_price[0]:,.2f}")
# Plotting the data and the prediction
plt.scatter(sizes, prices, color='blue', label='Actual prices')
plt.plot(sizes, model.predict(sizes), color='red', label='Regression Line')
plt.scatter(new_size, predicted_price, color='green', label='Prediction')
plt.xlabel('Size (sqm)')
plt.ylabel('Price ($)')
plt.title('House Price Prediction')
plt.legend()
plt.show()


import pandas as pd
import matplotlib.pyplot as plt
import ace_tools_open as tools 



